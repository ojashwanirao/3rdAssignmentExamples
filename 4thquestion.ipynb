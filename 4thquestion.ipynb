{
 "cells": [
  {
   "cell_type": "code",
   "execution_count": 2,
   "id": "d82cd6b6-c189-4aa6-8b85-04eed1d68f57",
   "metadata": {},
   "outputs": [],
   "source": [
    "#4. What is the purpose of the `return` statement in a Python function?"
   ]
  },
  {
   "cell_type": "code",
   "execution_count": 3,
   "id": "6aefa162-16f5-4cda-b27d-71ba17f7a648",
   "metadata": {},
   "outputs": [
    {
     "name": "stdout",
     "output_type": "stream",
     "text": [
      "8\n",
      "This will be printed.\n",
      "20 10\n",
      "None\n",
      "1\n"
     ]
    }
   ],
   "source": [
    "# Sending Back a Result\n",
    "def add(a, b):\n",
    "    return a + b\n",
    "\n",
    "result = add(5, 3)\n",
    "print(result)  \n",
    "\n",
    "# Terminating Function Execution\n",
    "def example_function():\n",
    "    print(\"This will be printed.\")\n",
    "    return\n",
    "    print(\"This will not be printed.\")\n",
    "\n",
    "example_function()  \n",
    "\n",
    "# Returning Multiple Values\n",
    "def get_dimensions():\n",
    "    width = 20\n",
    "    height = 10\n",
    "    return width, height\n",
    "\n",
    "w, h = get_dimensions()\n",
    "print(w, h)  \n",
    "\n",
    "# Returning None by Default\n",
    "def no_return():\n",
    "    pass\n",
    "\n",
    "result = no_return()\n",
    "print(result) \n",
    "\n",
    "# Early Exit\n",
    "def find_divisor(number):\n",
    "    if number <= 0:\n",
    "        return \"Invalid number\"\n",
    "    for i in range(1, number):\n",
    "        if number % i == 0:\n",
    "            return i\n",
    "    return \"No divisor found\"\n",
    "\n",
    "print(find_divisor(10)) "
   ]
  },
  {
   "cell_type": "code",
   "execution_count": null,
   "id": "1d3bb666-14c2-4f6c-ae7b-9300879e74d1",
   "metadata": {},
   "outputs": [],
   "source": []
  }
 ],
 "metadata": {
  "kernelspec": {
   "display_name": "Python 3 (ipykernel)",
   "language": "python",
   "name": "python3"
  },
  "language_info": {
   "codemirror_mode": {
    "name": "ipython",
    "version": 3
   },
   "file_extension": ".py",
   "mimetype": "text/x-python",
   "name": "python",
   "nbconvert_exporter": "python",
   "pygments_lexer": "ipython3",
   "version": "3.10.8"
  }
 },
 "nbformat": 4,
 "nbformat_minor": 5
}
