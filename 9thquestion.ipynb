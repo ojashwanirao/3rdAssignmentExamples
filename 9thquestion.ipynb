{
 "cells": [
  {
   "cell_type": "code",
   "execution_count": 1,
   "id": "a5e6d705-9477-466b-b7f1-ae659abbb0aa",
   "metadata": {},
   "outputs": [],
   "source": [
    "#9. Explain the purpose and usage of the `map()` function in Python."
   ]
  },
  {
   "cell_type": "code",
   "execution_count": 3,
   "id": "0787b4ec-c0c8-4719-935b-fd7adaf87216",
   "metadata": {},
   "outputs": [
    {
     "name": "stdout",
     "output_type": "stream",
     "text": [
      "[1, 4, 9, 16, 25]\n",
      "[1, 4, 9, 16, 25]\n",
      "[5, 7, 9]\n"
     ]
    }
   ],
   "source": [
    "#Basic Usage with a Regular Function:\n",
    "def square(x):\n",
    "    return x * x\n",
    "\n",
    "numbers = [1, 2, 3, 4, 5]\n",
    "squared_numbers = map(square, numbers)\n",
    "print(list(squared_numbers)) \n",
    "\n",
    "#Using Lambda Functions:\n",
    "numbers = [1, 2, 3, 4, 5]\n",
    "squared_numbers = map(lambda x: x * x, numbers)\n",
    "print(list(squared_numbers))  \n",
    "\n",
    "#Using Multiple Iterables:\n",
    "def add(x, y):\n",
    "    return x + y\n",
    "\n",
    "numbers1 = [1, 2, 3]\n",
    "numbers2 = [4, 5, 6]\n",
    "summed_numbers = map(add, numbers1, numbers2)\n",
    "print(list(summed_numbers))  "
   ]
  },
  {
   "cell_type": "code",
   "execution_count": null,
   "id": "3e3b8a47-e188-40a1-81da-73834ed83cf2",
   "metadata": {},
   "outputs": [],
   "source": []
  }
 ],
 "metadata": {
  "kernelspec": {
   "display_name": "Python 3 (ipykernel)",
   "language": "python",
   "name": "python3"
  },
  "language_info": {
   "codemirror_mode": {
    "name": "ipython",
    "version": 3
   },
   "file_extension": ".py",
   "mimetype": "text/x-python",
   "name": "python",
   "nbconvert_exporter": "python",
   "pygments_lexer": "ipython3",
   "version": "3.10.8"
  }
 },
 "nbformat": 4,
 "nbformat_minor": 5
}
