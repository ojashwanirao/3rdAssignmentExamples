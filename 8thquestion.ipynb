{
 "cells": [
  {
   "cell_type": "code",
   "execution_count": 1,
   "id": "f5745f1c-98d0-472d-b72e-418080334b19",
   "metadata": {},
   "outputs": [],
   "source": [
    "#8. What is a lambda function in Python and when is it typically used?"
   ]
  },
  {
   "cell_type": "code",
   "execution_count": 3,
   "id": "f0b78f7c-2866-47bb-8c04-2c12268a13cb",
   "metadata": {},
   "outputs": [
    {
     "name": "stdout",
     "output_type": "stream",
     "text": [
      "Add lambda: 8\n",
      "Squares: [1, 4, 9, 16, 25]\n",
      "Evens: [2, 4]\n",
      "Sorted Data: [(1, 'one'), (3, 'three'), (2, 'two')]\n",
      "Square lambda: 16\n",
      "Square regular function: 16\n"
     ]
    }
   ],
   "source": [
    "#Typical Uses of Lambda Functions\n",
    "from tkinter import Tk, Button\n",
    "\n",
    "# Short-term Functions\n",
    "add = lambda x, y: x + y\n",
    "print(\"Add lambda:\", add(5, 3)) \n",
    "\n",
    "# Functional Programming\n",
    "numbers = [1, 2, 3, 4, 5]\n",
    "\n",
    "# Using lambda with map to square each number\n",
    "squares = list(map(lambda x: x * x, numbers))\n",
    "print(\"Squares:\", squares)  \n",
    "\n",
    "# Using lambda with filter to get even numbers\n",
    "evens = list(filter(lambda x: x % 2 == 0, numbers))\n",
    "print(\"Evens:\", evens)  \n",
    "\n",
    "# Custom Sorting\n",
    "data = [(1, 'one'), (3, 'three'), (2, 'two')]\n",
    "sorted_data = sorted(data, key=lambda x: x[1])\n",
    "print(\"Sorted Data:\", sorted_data)  \n",
    "\n",
    "# Lambda Function Example\n",
    "square = lambda x: x * x\n",
    "print(\"Square lambda:\", square(4))  \n",
    "\n",
    "# Regular Function Example\n",
    "def square(x):\n",
    "    return x * x\n",
    "\n",
    "print(\"Square regular function:\", square(4))  "
   ]
  },
  {
   "cell_type": "code",
   "execution_count": null,
   "id": "e9986f94-d50d-4dac-9b45-ed0a63132304",
   "metadata": {},
   "outputs": [],
   "source": []
  }
 ],
 "metadata": {
  "kernelspec": {
   "display_name": "Python 3 (ipykernel)",
   "language": "python",
   "name": "python3"
  },
  "language_info": {
   "codemirror_mode": {
    "name": "ipython",
    "version": 3
   },
   "file_extension": ".py",
   "mimetype": "text/x-python",
   "name": "python",
   "nbconvert_exporter": "python",
   "pygments_lexer": "ipython3",
   "version": "3.10.8"
  }
 },
 "nbformat": 4,
 "nbformat_minor": 5
}
