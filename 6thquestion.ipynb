{
 "cells": [
  {
   "cell_type": "code",
   "execution_count": 1,
   "id": "119f32f3-719e-4dd2-824a-fe91d51f9c17",
   "metadata": {},
   "outputs": [],
   "source": [
    "#6. Explain the concept of generators in Python and how they are defined."
   ]
  },
  {
   "cell_type": "code",
   "execution_count": 2,
   "id": "c4a00a51-6002-416f-a71d-ef19d49e01a1",
   "metadata": {},
   "outputs": [
    {
     "name": "stdout",
     "output_type": "stream",
     "text": [
      "1\n",
      "2\n",
      "3\n",
      "0\n",
      "1\n",
      "4\n",
      "9\n",
      "16\n",
      "1\n",
      "2\n",
      "3\n",
      "4\n",
      "5\n"
     ]
    }
   ],
   "source": [
    "#Basic Generator Function:\n",
    "def number_generator():\n",
    "    yield 1\n",
    "    yield 2\n",
    "    yield 3\n",
    "\n",
    "# Creating a generator object\n",
    "gen = number_generator()\n",
    "\n",
    "# Iterating over the generator\n",
    "for num in gen:\n",
    "    print(num)\n",
    "\n",
    "#Generator with Expression:\n",
    "# Generator expression\n",
    "squares = (x * x for x in range(5))\n",
    "\n",
    "# Iterating over the generator expression\n",
    "for square in squares:\n",
    "    print(square)\n",
    "\n",
    "#Generator with State:\n",
    "def count_up_to(max):\n",
    "    count = 1\n",
    "    while count <= max:\n",
    "        yield count\n",
    "        count += 1\n",
    "\n",
    "# Creating a generator object\n",
    "counter = count_up_to(5)\n",
    "\n",
    "# Iterating over the generator\n",
    "for number in counter:\n",
    "    print(number)"
   ]
  },
  {
   "cell_type": "code",
   "execution_count": null,
   "id": "4ee8987d-241e-42a5-86b7-0f854c232b88",
   "metadata": {},
   "outputs": [],
   "source": []
  }
 ],
 "metadata": {
  "kernelspec": {
   "display_name": "Python 3 (ipykernel)",
   "language": "python",
   "name": "python3"
  },
  "language_info": {
   "codemirror_mode": {
    "name": "ipython",
    "version": 3
   },
   "file_extension": ".py",
   "mimetype": "text/x-python",
   "name": "python",
   "nbconvert_exporter": "python",
   "pygments_lexer": "ipython3",
   "version": "3.10.8"
  }
 },
 "nbformat": 4,
 "nbformat_minor": 5
}
