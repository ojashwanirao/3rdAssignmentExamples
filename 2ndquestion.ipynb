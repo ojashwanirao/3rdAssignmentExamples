{
 "cells": [
  {
   "cell_type": "code",
   "execution_count": 3,
   "id": "311d4459-1605-4d74-b8a1-37f775d0ec05",
   "metadata": {},
   "outputs": [],
   "source": [
    "#2. Explain the concept of function arguments and parameters in Python."
   ]
  },
  {
   "cell_type": "code",
   "execution_count": 4,
   "id": "79cabce6-b3a8-4c27-b836-7e1fab553598",
   "metadata": {},
   "outputs": [
    {
     "name": "stdout",
     "output_type": "stream",
     "text": [
      "Hello, Alice. You are 30 years old.\n",
      "Hello, Bob. You are 25 years old.\n",
      "Hello, Charlie. You are 20 years old.\n",
      "Hello, Daisy. You are 25 years old.\n",
      "Arguments: (1, 2, 3)\n",
      "Keyword Arguments: {'a': 'x', 'b': 'y'}\n"
     ]
    }
   ],
   "source": [
    "#Positional Arguments\n",
    "def greet(name, age):\n",
    "    print(f\"Hello, {name}. You are {age} years old.\")\n",
    "\n",
    "greet(\"Alice\", 30)  \n",
    "\n",
    "#Keyword Arguments\n",
    "def greet(name, age):\n",
    "    print(f\"Hello, {name}. You are {age} years old.\")\n",
    "\n",
    "greet(age=25, name=\"Bob\")  \n",
    "\n",
    "#Default Arguments\n",
    "def greet(name, age=20):\n",
    "    print(f\"Hello, {name}. You are {age} years old.\")\n",
    "\n",
    "greet(\"Charlie\")        \n",
    "greet(\"Daisy\", 25)     \n",
    "\n",
    "#Variable-length Arguments\n",
    "def show_info(*args, **kwargs):\n",
    "    print(\"Arguments:\", args)\n",
    "    print(\"Keyword Arguments:\", kwargs)\n",
    "\n",
    "show_info(1, 2, 3, a=\"x\", b=\"y\")"
   ]
  },
  {
   "cell_type": "code",
   "execution_count": null,
   "id": "c46b36b8-c83e-4db7-9629-456498e08e39",
   "metadata": {},
   "outputs": [],
   "source": []
  }
 ],
 "metadata": {
  "kernelspec": {
   "display_name": "Python 3 (ipykernel)",
   "language": "python",
   "name": "python3"
  },
  "language_info": {
   "codemirror_mode": {
    "name": "ipython",
    "version": 3
   },
   "file_extension": ".py",
   "mimetype": "text/x-python",
   "name": "python",
   "nbconvert_exporter": "python",
   "pygments_lexer": "ipython3",
   "version": "3.10.8"
  }
 },
 "nbformat": 4,
 "nbformat_minor": 5
}
