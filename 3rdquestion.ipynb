{
 "cells": [
  {
   "cell_type": "code",
   "execution_count": 1,
   "id": "d18ffc14-6d18-4c37-aa5b-9a97ef103130",
   "metadata": {},
   "outputs": [],
   "source": [
    "#3. What are the different ways to define and call a function in Python?"
   ]
  },
  {
   "cell_type": "code",
   "execution_count": 2,
   "id": "7cd3394c-ecf1-47ba-a49c-9d0d20929268",
   "metadata": {},
   "outputs": [
    {
     "name": "stdout",
     "output_type": "stream",
     "text": [
      "Hello, World!\n",
      "Hello, Alice!\n",
      "8\n",
      "16\n",
      "Hello, Guest!\n",
      "Hello, Bob!\n",
      "Python\n",
      "Java\n",
      "language: Python\n",
      "version: 3.10\n"
     ]
    }
   ],
   "source": [
    "# Basic Function Definition and Call\n",
    "def greet():\n",
    "    print(\"Hello, World!\")\n",
    "\n",
    "greet()\n",
    "\n",
    "# Function with Parameters\n",
    "def greet(name):\n",
    "    print(f\"Hello, {name}!\")\n",
    "\n",
    "greet(\"Alice\")\n",
    "\n",
    "# Function with Return Value\n",
    "def add(a, b):\n",
    "    return a + b\n",
    "\n",
    "result = add(5, 3)\n",
    "print(result)\n",
    "\n",
    "# Lambda Function\n",
    "square = lambda x: x * x\n",
    "print(square(4))\n",
    "\n",
    "# Function with Default Arguments\n",
    "def greet(name=\"Guest\"):\n",
    "    print(f\"Hello, {name}!\")\n",
    "\n",
    "greet()\n",
    "greet(\"Bob\")\n",
    "\n",
    "# Function with Variable-Length Arguments\n",
    "def print_info(*args, **kwargs):\n",
    "    for arg in args:\n",
    "        print(arg)\n",
    "    for key, value in kwargs.items():\n",
    "        print(f\"{key}: {value}\")\n",
    "\n",
    "print_info(\"Python\", \"Java\", language=\"Python\", version=\"3.10\")"
   ]
  },
  {
   "cell_type": "code",
   "execution_count": null,
   "id": "8bd022eb-d757-43a8-b88f-7d7c5e8514d5",
   "metadata": {},
   "outputs": [],
   "source": []
  }
 ],
 "metadata": {
  "kernelspec": {
   "display_name": "Python 3 (ipykernel)",
   "language": "python",
   "name": "python3"
  },
  "language_info": {
   "codemirror_mode": {
    "name": "ipython",
    "version": 3
   },
   "file_extension": ".py",
   "mimetype": "text/x-python",
   "name": "python",
   "nbconvert_exporter": "python",
   "pygments_lexer": "ipython3",
   "version": "3.10.8"
  }
 },
 "nbformat": 4,
 "nbformat_minor": 5
}
